{
 "cells": [
  {
   "cell_type": "code",
   "execution_count": 1,
   "id": "9cefa0a1",
   "metadata": {},
   "outputs": [
    {
     "name": "stdout",
     "output_type": "stream",
     "text": [
      " Enter url: https://www.youtube.com/watch?v=Vah_RQrlM_k&list=PLZoTAELRMXVNUL99R4bDlVYsncUNvwUBB&index=18\n"
     ]
    }
   ],
   "source": [
    "import pytube\n",
    "\n",
    "download_loc=\"./\"\n",
    "video_url = input(\" Enter url: \")\n"
   ]
  },
  {
   "cell_type": "code",
   "execution_count": 2,
   "id": "e1e34e1a",
   "metadata": {},
   "outputs": [
    {
     "data": {
      "text/plain": [
       "'C:\\\\Users\\\\ASUS\\\\Tutorial 12- Python Functions Positional and Keywords Arguments.mp4'"
      ]
     },
     "execution_count": 2,
     "metadata": {},
     "output_type": "execute_result"
    }
   ],
   "source": [
    "video_instance = pytube.YouTube(video_url)\n",
    "stream = video_instance.streams.get_highest_resolution()\n",
    "stream.download()"
   ]
  },
  {
   "cell_type": "code",
   "execution_count": null,
   "id": "122fcec1",
   "metadata": {},
   "outputs": [],
   "source": []
  }
 ],
 "metadata": {
  "kernelspec": {
   "display_name": "Python 3 (ipykernel)",
   "language": "python",
   "name": "python3"
  },
  "language_info": {
   "codemirror_mode": {
    "name": "ipython",
    "version": 3
   },
   "file_extension": ".py",
   "mimetype": "text/x-python",
   "name": "python",
   "nbconvert_exporter": "python",
   "pygments_lexer": "ipython3",
   "version": "3.9.13"
  }
 },
 "nbformat": 4,
 "nbformat_minor": 5
}
