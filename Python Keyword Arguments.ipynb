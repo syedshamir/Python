{
 "cells": [
  {
   "cell_type": "markdown",
   "id": "d679df6d",
   "metadata": {},
   "source": [
    "You can also send arguments with the key = value syntax.\n",
    "\n",
    "This way the order of the arguments does not matter."
   ]
  },
  {
   "cell_type": "code",
   "execution_count": 2,
   "id": "3e620a59",
   "metadata": {},
   "outputs": [
    {
     "name": "stdout",
     "output_type": "stream",
     "text": [
      "The youngest child is Emil\n"
     ]
    }
   ],
   "source": [
    "def my_func(child3, child1, child2):\n",
    "    print(\"The youngest child is \"+ child3)\n",
    "    \n",
    "my_func(child3=\"Emil\",child2=\"Tobias\", child1=\"Linus\")"
   ]
  },
  {
   "cell_type": "code",
   "execution_count": 3,
   "id": "fb20c0a4",
   "metadata": {},
   "outputs": [
    {
     "name": "stdout",
     "output_type": "stream",
     "text": [
      "The youngest child is Linus\n"
     ]
    }
   ],
   "source": [
    "def my_func(child3, child1, child2):\n",
    "    print(\"The youngest child is \"+ child3)\n",
    "    \n",
    "my_func(child1=\"Emil\",child2=\"Tobias\", child3=\"Linus\")"
   ]
  },
  {
   "cell_type": "code",
   "execution_count": null,
   "id": "eeae3a56",
   "metadata": {},
   "outputs": [],
   "source": []
  }
 ],
 "metadata": {
  "kernelspec": {
   "display_name": "Python 3 (ipykernel)",
   "language": "python",
   "name": "python3"
  },
  "language_info": {
   "codemirror_mode": {
    "name": "ipython",
    "version": 3
   },
   "file_extension": ".py",
   "mimetype": "text/x-python",
   "name": "python",
   "nbconvert_exporter": "python",
   "pygments_lexer": "ipython3",
   "version": "3.9.13"
  }
 },
 "nbformat": 4,
 "nbformat_minor": 5
}
