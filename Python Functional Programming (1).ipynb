{
 "cells": [
  {
   "cell_type": "code",
   "execution_count": null,
   "id": "41b5958b",
   "metadata": {},
   "outputs": [],
   "source": []
  },
  {
   "cell_type": "markdown",
   "id": "b87b763f",
   "metadata": {},
   "source": [
    "# Lamda "
   ]
  },
  {
   "cell_type": "code",
   "execution_count": 49,
   "id": "66049278",
   "metadata": {},
   "outputs": [],
   "source": [
    "square = lambda x:x**2\n",
    "result = square(5)"
   ]
  },
  {
   "cell_type": "code",
   "execution_count": 50,
   "id": "bdba74cb",
   "metadata": {},
   "outputs": [
    {
     "name": "stdout",
     "output_type": "stream",
     "text": [
      "25\n"
     ]
    }
   ],
   "source": [
    "print(result)"
   ]
  },
  {
   "cell_type": "code",
   "execution_count": 51,
   "id": "c42da814",
   "metadata": {},
   "outputs": [],
   "source": [
    "addit = lambda x,y: x+y\n",
    "res = addit(3,4)\n"
   ]
  },
  {
   "cell_type": "code",
   "execution_count": 52,
   "id": "f0359f9c",
   "metadata": {},
   "outputs": [
    {
     "name": "stdout",
     "output_type": "stream",
     "text": [
      "7\n"
     ]
    }
   ],
   "source": [
    "print(res)"
   ]
  },
  {
   "cell_type": "markdown",
   "id": "51c9352d",
   "metadata": {},
   "source": [
    "## Map"
   ]
  },
  {
   "cell_type": "code",
   "execution_count": 68,
   "id": "b370a27d",
   "metadata": {},
   "outputs": [],
   "source": [
    "my_list = [1,2,3,4,5]\n",
    "result = lambda x:x**2, my_list\n"
   ]
  },
  {
   "cell_type": "code",
   "execution_count": null,
   "id": "ccb855d4",
   "metadata": {},
   "outputs": [],
   "source": []
  },
  {
   "cell_type": "code",
   "execution_count": 69,
   "id": "2f7f7eb7",
   "metadata": {},
   "outputs": [
    {
     "name": "stdout",
     "output_type": "stream",
     "text": [
      "(<function <lambda> at 0x000002CC7B533820>, [1, 2, 3, 4, 5])\n"
     ]
    }
   ],
   "source": [
    "print(result)"
   ]
  },
  {
   "cell_type": "code",
   "execution_count": 70,
   "id": "d1db97d7",
   "metadata": {},
   "outputs": [],
   "source": [
    "result = map(lambda x:x**2, my_list) #map() function applies given function to each element of the list"
   ]
  },
  {
   "cell_type": "code",
   "execution_count": 71,
   "id": "00825dd0",
   "metadata": {},
   "outputs": [
    {
     "name": "stdout",
     "output_type": "stream",
     "text": [
      "<map object at 0x000002CC7B1909A0>\n"
     ]
    }
   ],
   "source": [
    "print(result)"
   ]
  },
  {
   "cell_type": "raw",
   "id": "36e57e4d",
   "metadata": {},
   "source": []
  },
  {
   "cell_type": "code",
   "execution_count": 72,
   "id": "cb1fee48",
   "metadata": {},
   "outputs": [
    {
     "name": "stdout",
     "output_type": "stream",
     "text": [
      "[1, 4, 9, 16, 25]\n"
     ]
    }
   ],
   "source": [
    "print(list(result))"
   ]
  },
  {
   "cell_type": "code",
   "execution_count": 87,
   "id": "80d03a8b",
   "metadata": {},
   "outputs": [],
   "source": [
    "a = \"Shamir is a good looking and intelligent boy\""
   ]
  },
  {
   "cell_type": "code",
   "execution_count": 93,
   "id": "a72b92f0",
   "metadata": {},
   "outputs": [],
   "source": [
    "c=a.split()"
   ]
  },
  {
   "cell_type": "code",
   "execution_count": 94,
   "id": "a5beb57b",
   "metadata": {},
   "outputs": [
    {
     "name": "stdout",
     "output_type": "stream",
     "text": [
      "['Shamir', 'is', 'a', 'good', 'looking', 'and', 'intelligent', 'boy']\n"
     ]
    }
   ],
   "source": [
    "print(c)"
   ]
  },
  {
   "cell_type": "code",
   "execution_count": 96,
   "id": "dc5c7cf4",
   "metadata": {},
   "outputs": [
    {
     "name": "stdout",
     "output_type": "stream",
     "text": [
      "Shamir\n",
      "is\n",
      "a\n",
      "good\n",
      "looking\n",
      "and\n",
      "intelligent\n",
      "boy\n"
     ]
    }
   ],
   "source": [
    "for i in c:\n",
    "    print(i)"
   ]
  },
  {
   "cell_type": "code",
   "execution_count": 119,
   "id": "68a3298e",
   "metadata": {},
   "outputs": [
    {
     "name": "stdout",
     "output_type": "stream",
     "text": [
      "['S']\n",
      "['h']\n",
      "['a']\n",
      "['m']\n",
      "['i']\n",
      "['r']\n",
      "[]\n",
      "['i']\n",
      "['s']\n",
      "[]\n",
      "['a']\n",
      "[]\n",
      "['g']\n",
      "['o']\n",
      "['o']\n",
      "['d']\n",
      "[]\n",
      "['l']\n",
      "['o']\n",
      "['o']\n",
      "['k']\n",
      "['i']\n",
      "['n']\n",
      "['g']\n",
      "[]\n",
      "['a']\n",
      "['n']\n",
      "['d']\n",
      "[]\n",
      "['i']\n",
      "['n']\n",
      "['t']\n",
      "['e']\n",
      "['l']\n",
      "['l']\n",
      "['i']\n",
      "['g']\n",
      "['e']\n",
      "['n']\n",
      "['t']\n",
      "[]\n",
      "['b']\n",
      "['o']\n",
      "['y']\n"
     ]
    }
   ],
   "source": [
    "for i in a:\n",
    "    words = i.split()\n",
    "    print(words)"
   ]
  },
  {
   "cell_type": "code",
   "execution_count": 146,
   "id": "a92bbbf9",
   "metadata": {},
   "outputs": [
    {
     "name": "stdout",
     "output_type": "stream",
     "text": [
      "['S']\n",
      "['s']\n",
      "2\n"
     ]
    }
   ],
   "source": [
    "count=0\n",
    "for i in a:\n",
    "    if len(i.split()) != 0: #remove space or empty lists\n",
    "        words=i.split()\n",
    "        for e in words:\n",
    "            if e.lower() == 's':\n",
    "                count+=1\n",
    "                print(words)\n",
    "print(count)           "
   ]
  },
  {
   "cell_type": "code",
   "execution_count": 170,
   "id": "57727eb8",
   "metadata": {},
   "outputs": [
    {
     "data": {
      "text/plain": [
       "['S',\n",
       " 'h',\n",
       " 'a',\n",
       " 'm',\n",
       " 'i',\n",
       " 'r',\n",
       " 'i',\n",
       " 's',\n",
       " 'a',\n",
       " 'g',\n",
       " 'o',\n",
       " 'o',\n",
       " 'd',\n",
       " 'l',\n",
       " 'o',\n",
       " 'o',\n",
       " 'k',\n",
       " 'i',\n",
       " 'n',\n",
       " 'g',\n",
       " 'a',\n",
       " 'n',\n",
       " 'd',\n",
       " 'i',\n",
       " 'n',\n",
       " 't',\n",
       " 'e',\n",
       " 'l',\n",
       " 'l',\n",
       " 'i',\n",
       " 'g',\n",
       " 'e',\n",
       " 'n',\n",
       " 't',\n",
       " 'b',\n",
       " 'o',\n",
       " 'y']"
      ]
     },
     "execution_count": 170,
     "metadata": {},
     "output_type": "execute_result"
    }
   ],
   "source": [
    "list(filter(lambda x: len(x.split())!=0, a))"
   ]
  },
  {
   "cell_type": "code",
   "execution_count": 176,
   "id": "3b0428b4",
   "metadata": {},
   "outputs": [
    {
     "name": "stdout",
     "output_type": "stream",
     "text": [
      "['S']\n",
      "['h']\n",
      "['a']\n",
      "['m']\n",
      "['i']\n",
      "['r']\n",
      "['i']\n",
      "['s']\n",
      "['a']\n",
      "['g']\n",
      "['o']\n",
      "['o']\n",
      "['d']\n",
      "['l']\n",
      "['o']\n",
      "['o']\n",
      "['k']\n",
      "['i']\n",
      "['n']\n",
      "['g']\n",
      "['a']\n",
      "['n']\n",
      "['d']\n",
      "['i']\n",
      "['n']\n",
      "['t']\n",
      "['e']\n",
      "['l']\n",
      "['l']\n",
      "['i']\n",
      "['g']\n",
      "['e']\n",
      "['n']\n",
      "['t']\n",
      "['b']\n",
      "['o']\n",
      "['y']\n"
     ]
    }
   ],
   "source": [
    "list(map(lambda x:x.split(), word_list))\n",
    "for i in list(map(lambda x:x.split(), word_list)):\n",
    "    print(i)"
   ]
  },
  {
   "cell_type": "code",
   "execution_count": 157,
   "id": "dc8c1654",
   "metadata": {},
   "outputs": [
    {
     "name": "stdout",
     "output_type": "stream",
     "text": [
      "2\n"
     ]
    }
   ],
   "source": [
    "count = 0\n",
    "word_list = list(filter(lambda x: len(x.split()) != 0, a))\n",
    "count = sum(list(map(lambda x: sum(list(map(lambda y: 1 if y.lower() == 's' else 0, x.split()))), word_list)))\n",
    "\n",
    "print(count)\n"
   ]
  },
  {
   "cell_type": "code",
   "execution_count": 162,
   "id": "d0a899d3",
   "metadata": {},
   "outputs": [
    {
     "name": "stdout",
     "output_type": "stream",
     "text": [
      "['S', 'h', 'a', 'm', 'i', 'r', 'i', 's', 'a', 'g', 'o', 'o', 'd', 'l', 'o', 'o', 'k', 'i', 'n', 'g', 'a', 'n', 'd', 'i', 'n', 't', 'e', 'l', 'l', 'i', 'g', 'e', 'n', 't', 'b', 'o', 'y']\n"
     ]
    }
   ],
   "source": [
    "print(word_list)"
   ]
  },
  {
   "cell_type": "code",
   "execution_count": null,
   "id": "919a6b48",
   "metadata": {},
   "outputs": [],
   "source": [
    "x=word_list[:]"
   ]
  },
  {
   "cell_type": "code",
   "execution_count": 166,
   "id": "abaaccb4",
   "metadata": {},
   "outputs": [
    {
     "data": {
      "text/plain": [
       "[1,\n",
       " 0,\n",
       " 0,\n",
       " 0,\n",
       " 0,\n",
       " 0,\n",
       " 0,\n",
       " 1,\n",
       " 0,\n",
       " 0,\n",
       " 0,\n",
       " 0,\n",
       " 0,\n",
       " 0,\n",
       " 0,\n",
       " 0,\n",
       " 0,\n",
       " 0,\n",
       " 0,\n",
       " 0,\n",
       " 0,\n",
       " 0,\n",
       " 0,\n",
       " 0,\n",
       " 0,\n",
       " 0,\n",
       " 0,\n",
       " 0,\n",
       " 0,\n",
       " 0,\n",
       " 0,\n",
       " 0,\n",
       " 0,\n",
       " 0,\n",
       " 0,\n",
       " 0,\n",
       " 0]"
      ]
     },
     "execution_count": 166,
     "metadata": {},
     "output_type": "execute_result"
    }
   ],
   "source": [
    "list(map(lambda y: 1 if y.lower() == 's' else 0, word_list))"
   ]
  },
  {
   "cell_type": "code",
   "execution_count": 168,
   "id": "46a1e44d",
   "metadata": {},
   "outputs": [
    {
     "data": {
      "text/plain": [
       "2"
      ]
     },
     "execution_count": 168,
     "metadata": {},
     "output_type": "execute_result"
    }
   ],
   "source": [
    "sum(list(map(lambda y: 1 if y.lower() == 's' else 0, word_list)))"
   ]
  },
  {
   "cell_type": "code",
   "execution_count": 150,
   "id": "761e3f66",
   "metadata": {},
   "outputs": [
    {
     "ename": "TypeError",
     "evalue": "map() must have at least two arguments.",
     "output_type": "error",
     "traceback": [
      "\u001b[1;31m---------------------------------------------------------------------------\u001b[0m",
      "\u001b[1;31mTypeError\u001b[0m                                 Traceback (most recent call last)",
      "\u001b[1;32m~\\AppData\\Local\\Temp\\ipykernel_3024\\3185100304.py\u001b[0m in \u001b[0;36m<module>\u001b[1;34m\u001b[0m\n\u001b[1;32m----> 1\u001b[1;33m \u001b[0mmap\u001b[0m\u001b[1;33m(\u001b[0m\u001b[1;32mlambda\u001b[0m \u001b[0mx\u001b[0m\u001b[1;33m:\u001b[0m \u001b[0msum\u001b[0m\u001b[1;33m(\u001b[0m\u001b[0mlist\u001b[0m\u001b[1;33m(\u001b[0m\u001b[0mmap\u001b[0m\u001b[1;33m(\u001b[0m\u001b[1;32mlambda\u001b[0m \u001b[0my\u001b[0m\u001b[1;33m:\u001b[0m \u001b[1;36m1\u001b[0m \u001b[1;32mif\u001b[0m \u001b[0my\u001b[0m\u001b[1;33m.\u001b[0m\u001b[0mlower\u001b[0m\u001b[1;33m(\u001b[0m\u001b[1;33m)\u001b[0m \u001b[1;33m==\u001b[0m \u001b[1;34m's'\u001b[0m \u001b[1;32melse\u001b[0m \u001b[1;36m0\u001b[0m\u001b[1;33m,\u001b[0m \u001b[0mx\u001b[0m\u001b[1;33m.\u001b[0m\u001b[0msplit\u001b[0m\u001b[1;33m(\u001b[0m\u001b[1;33m)\u001b[0m\u001b[1;33m)\u001b[0m\u001b[1;33m)\u001b[0m\u001b[1;33m)\u001b[0m\u001b[1;33m)\u001b[0m\u001b[1;33m\u001b[0m\u001b[1;33m\u001b[0m\u001b[0m\n\u001b[0m",
      "\u001b[1;31mTypeError\u001b[0m: map() must have at least two arguments."
     ]
    }
   ],
   "source": [
    "map(lambda x: sum(list(map(lambda y: 1 if y.lower() == 's' else 0, x.split())))), word_list"
   ]
  },
  {
   "cell_type": "code",
   "execution_count": 103,
   "id": "239efa7a",
   "metadata": {},
   "outputs": [
    {
     "name": "stdout",
     "output_type": "stream",
     "text": [
      "1\n"
     ]
    }
   ],
   "source": [
    "count=0\n",
    "for i in a:\n",
    "    if len(i.split()) != 0:\n",
    "        words=i.split()\n",
    "        if words == ['S' or 's']:\n",
    "            count+=1\n",
    "    \n",
    "print(count)    \n",
    "            "
   ]
  },
  {
   "cell_type": "code",
   "execution_count": null,
   "id": "49f0d3a0",
   "metadata": {},
   "outputs": [],
   "source": []
  },
  {
   "cell_type": "code",
   "execution_count": null,
   "id": "775f1aef",
   "metadata": {},
   "outputs": [],
   "source": []
  },
  {
   "cell_type": "code",
   "execution_count": 88,
   "id": "12cf8222",
   "metadata": {},
   "outputs": [
    {
     "ename": "NameError",
     "evalue": "name 'i' is not defined",
     "output_type": "error",
     "traceback": [
      "\u001b[1;31m---------------------------------------------------------------------------\u001b[0m",
      "\u001b[1;31mNameError\u001b[0m                                 Traceback (most recent call last)",
      "\u001b[1;32m~\\AppData\\Local\\Temp\\ipykernel_3024\\3473379941.py\u001b[0m in \u001b[0;36m<module>\u001b[1;34m\u001b[0m\n\u001b[1;32m----> 1\u001b[1;33m \u001b[0mres1\u001b[0m \u001b[1;33m=\u001b[0m \u001b[0mlist\u001b[0m\u001b[1;33m(\u001b[0m\u001b[0mmap\u001b[0m\u001b[1;33m(\u001b[0m\u001b[1;32mlambda\u001b[0m \u001b[0mx\u001b[0m\u001b[1;33m:\u001b[0m\u001b[0mx\u001b[0m\u001b[1;33m,\u001b[0m \u001b[0ma\u001b[0m\u001b[1;33m[\u001b[0m\u001b[0mi\u001b[0m\u001b[1;33m]\u001b[0m\u001b[1;33m)\u001b[0m\u001b[1;33m)\u001b[0m\u001b[1;33m\u001b[0m\u001b[1;33m\u001b[0m\u001b[0m\n\u001b[0m",
      "\u001b[1;31mNameError\u001b[0m: name 'i' is not defined"
     ]
    }
   ],
   "source": [
    "res1 = list(map(lambda x:x, a[i]))"
   ]
  },
  {
   "cell_type": "code",
   "execution_count": 81,
   "id": "2d0a47dc",
   "metadata": {},
   "outputs": [
    {
     "name": "stdout",
     "output_type": "stream",
     "text": [
      "['Shamir', 'is', 'a', 'good', 'looking', 'and', 'intelligent', 'boy']\n"
     ]
    }
   ],
   "source": [
    "print(res1)"
   ]
  },
  {
   "cell_type": "code",
   "execution_count": null,
   "id": "c041378f",
   "metadata": {},
   "outputs": [],
   "source": []
  },
  {
   "cell_type": "code",
   "execution_count": null,
   "id": "9cd78374",
   "metadata": {},
   "outputs": [],
   "source": []
  },
  {
   "cell_type": "markdown",
   "id": "c01c7ebb",
   "metadata": {},
   "source": [
    "## Filter"
   ]
  },
  {
   "cell_type": "code",
   "execution_count": null,
   "id": "d264cfea",
   "metadata": {},
   "outputs": [],
   "source": [
    "my_list = [1, 2, 3, 4, 5, 6, 7, 8, 9, 10]\n",
    "result = (lambda x:x%2 == 0, my_list)"
   ]
  },
  {
   "cell_type": "code",
   "execution_count": 59,
   "id": "016ba2c4",
   "metadata": {},
   "outputs": [
    {
     "name": "stdout",
     "output_type": "stream",
     "text": [
      "(<function <lambda> at 0x000002CC7B551700>, [1, 2, 3, 4, 5, 6, 7, 8, 9, 10])\n"
     ]
    }
   ],
   "source": [
    "print(result)"
   ]
  },
  {
   "cell_type": "code",
   "execution_count": 60,
   "id": "7dcb3b7e",
   "metadata": {},
   "outputs": [],
   "source": [
    "result = filter(lambda x:x%2 == 0, my_list) #filter() function creates a list of elements for which function is True"
   ]
  },
  {
   "cell_type": "code",
   "execution_count": 61,
   "id": "6472b23e",
   "metadata": {},
   "outputs": [
    {
     "name": "stdout",
     "output_type": "stream",
     "text": [
      "<filter object at 0x000002CC7B1909A0>\n"
     ]
    }
   ],
   "source": [
    "print(result)"
   ]
  },
  {
   "cell_type": "code",
   "execution_count": 62,
   "id": "eaa97c9b",
   "metadata": {},
   "outputs": [
    {
     "name": "stdout",
     "output_type": "stream",
     "text": [
      "[2, 4, 6, 8, 10]\n"
     ]
    }
   ],
   "source": [
    "print(list(result))\n"
   ]
  },
  {
   "cell_type": "markdown",
   "id": "db538441",
   "metadata": {},
   "source": [
    "## Reduce"
   ]
  },
  {
   "cell_type": "code",
   "execution_count": 63,
   "id": "308285c9",
   "metadata": {},
   "outputs": [],
   "source": [
    "from functools import reduce\n",
    "my_list = [1,2,3,4,5]\n",
    "result  = lambda x,y:x*y, my_list"
   ]
  },
  {
   "cell_type": "code",
   "execution_count": 64,
   "id": "8e69389f",
   "metadata": {},
   "outputs": [
    {
     "name": "stdout",
     "output_type": "stream",
     "text": [
      "(<function <lambda> at 0x000002CC7B551700>, [1, 2, 3, 4, 5])\n"
     ]
    }
   ],
   "source": [
    "print(result)"
   ]
  },
  {
   "cell_type": "code",
   "execution_count": 65,
   "id": "ee840417",
   "metadata": {},
   "outputs": [],
   "source": [
    " result  = reduce(lambda x,y:x*y, my_list) #reduce() function applies given function to the element of an iterable in \n",
    "    #cumulative way and returns a single value"
   ]
  },
  {
   "cell_type": "code",
   "execution_count": 66,
   "id": "201e4448",
   "metadata": {},
   "outputs": [
    {
     "name": "stdout",
     "output_type": "stream",
     "text": [
      "120\n"
     ]
    }
   ],
   "source": [
    "print(result)"
   ]
  }
 ],
 "metadata": {
  "kernelspec": {
   "display_name": "Python 3 (ipykernel)",
   "language": "python",
   "name": "python3"
  },
  "language_info": {
   "codemirror_mode": {
    "name": "ipython",
    "version": 3
   },
   "file_extension": ".py",
   "mimetype": "text/x-python",
   "name": "python",
   "nbconvert_exporter": "python",
   "pygments_lexer": "ipython3",
   "version": "3.9.13"
  }
 },
 "nbformat": 4,
 "nbformat_minor": 5
}
